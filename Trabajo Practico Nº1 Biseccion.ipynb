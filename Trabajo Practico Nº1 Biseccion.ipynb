{
 "cells": [
  {
   "cell_type": "markdown",
   "metadata": {},
   "source": [
    "Trabajo Practico Nº1: Bisección\n",
    "\n",
    "Método de la biseccion\n",
    "\n",
    "Ejemplo:\n",
    "\n",
    "$G(z)=(λ*R*z)/((2*e0*)*(z^2 + R^2)^(3/2)) -5000$"
   ]
  },
  {
   "cell_type": "code",
   "execution_count": 13,
   "metadata": {},
   "outputs": [],
   "source": [
    "import sympy as sm\n",
    "import numpy as np\n",
    "import matplotlib.pyplot as plt\n",
    "\n",
    "z = sm.symbols('z')"
   ]
  },
  {
   "cell_type": "code",
   "execution_count": 14,
   "metadata": {},
   "outputs": [],
   "source": [
    "cadena = '1130 * z/((z ** 2 +0.2 ** 2 )^ (3/2)) -5000'"
   ]
  },
  {
   "cell_type": "code",
   "execution_count": 15,
   "metadata": {},
   "outputs": [
    {
     "name": "stdout",
     "output_type": "stream",
     "text": [
      "1130*z/(z**2 + 0.04)**(3/2) - 5000\n"
     ]
    }
   ],
   "source": [
    "funcion=sm.sympify(cadena)\n",
    "print(funcion)"
   ]
  },
  {
   "cell_type": "code",
   "execution_count": 16,
   "metadata": {},
   "outputs": [],
   "source": [
    "G = sm.lambdify(z, funcion)"
   ]
  },
  {
   "cell_type": "code",
   "execution_count": 19,
   "metadata": {},
   "outputs": [
    {
     "data": {
      "image/png": "[encoded data removed]",
      "text/plain": [
       "<Figure size 432x288 with 1 Axes>"
      ]
     },
     "metadata": {},
     "output_type": "display_data"
    }
   ],
   "source": [
    "x = np.linspace(-0.5,0.5,101)\n",
    "plt.plot(x,G(x))\n",
    "plt.grid()\n",
    "plt.show()"
   ]
  },
  {
   "cell_type": "code",
   "execution_count": 25,
   "metadata": {},
   "outputs": [
    {
     "name": "stdout",
     "output_type": "stream",
     "text": [
      "Ierración 1 = 0.0\n",
      "Ierración 2 = 0.15\n",
      "Ierración 3 = 0.075\n",
      "Ierración 4 = 0.0375\n",
      "Ierración 5 = 0.01875\n",
      "Ierración 6 = 0.028124999999999997\n",
      "Ierración 7 = 0.032812499999999994\n",
      "Ierración 8 = 0.03515625\n",
      "Ierración 9 = 0.036328125\n",
      "Ierración 10 = 0.0369140625\n",
      "Ierración 11 = 0.037207031249999994\n",
      "Ierración 12 = 0.037353515625\n",
      "Ierración 13 = 0.0372802734375\n",
      "Ierración 14 = 0.037243652343749996\n",
      "Ierración 15 = 0.037261962890625\n",
      "Ierración 16 = 0.037252807617187494\n",
      "Ierración 17 = 0.03725738525390625\n",
      "Ierración 18 = 0.03725509643554687\n",
      "Ierración 19 = 0.03725624084472656\n",
      "Ierración 20 = 0.037256813049316405\n",
      "Ierración 21 = 0.03725652694702149\n",
      "Ierración 22 = 0.03725666999816894\n",
      "Ierración 23 = 0.03725674152374267\n",
      "Ierración 24 = 0.037256705760955806\n",
      "Ierración 25 = 0.03725668787956238\n",
      "Ierración 26 = 0.03725667893886566\n",
      "Ierración 27 = 0.03725668340921402\n",
      "Ierración 28 = 0.03725668117403984\n",
      "Ierración 29 = 0.03725668229162693\n",
      "Ierración 30 = 0.037256681732833384\n"
     ]
    }
   ],
   "source": [
    "def RelativeError(xi,xii):\n",
    "    return abs((xii-xi)/xii)\n",
    "\n",
    "a = -0.3\n",
    "b = 0.3\n",
    "xi= -100\n",
    "xii=100\n",
    "i=1\n",
    "while RelativeError(xi,xii) > 0.00000001:\n",
    "    xi = (a + b) / 2\n",
    "    fa=G(a)\n",
    "    fb=G(b)\n",
    "    fxi=G(xi)\n",
    "    if fxi == 0:\n",
    "        raiz = c\n",
    "        break\n",
    "    elif fa * fxi <0:\n",
    "        b=xi\n",
    "    else :\n",
    "        a = xi\n",
    "    raiz = xi\n",
    "    xii = (a+b)/2\n",
    "    print('Ierración',i, '=',raiz)\n",
    "    i=i+1"
   ]
  },
  {
   "cell_type": "code",
   "execution_count": null,
   "metadata": {},
   "outputs": [],
   "source": []
  }
 ],
 "metadata": {
  "kernelspec": {
   "display_name": "Python 3",
   "language": "python",
   "name": "python3"
  },
  "language_info": {
   "codemirror_mode": {
    "name": "ipython",
    "version": 3
   },
   "file_extension": ".py",
   "mimetype": "text/x-python",
   "name": "python",
   "nbconvert_exporter": "python",
   "pygments_lexer": "ipython3",
   "version": "3.6.5"
  }
 },
 "nbformat": 4,
 "nbformat_minor": 2
}
