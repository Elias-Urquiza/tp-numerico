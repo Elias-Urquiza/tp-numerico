{
 "cells": [
  {
   "cell_type": "markdown",
   "metadata": {},
   "source": [
    "# $$Trabajo\\ Práctico\\ Nº1$$\n",
    "\n",
    "$$ANÁLISIS\\ NUMÉRICO$$\n",
    "\n",
    "$$2do\\  Cuatrimestre\\ 2018$$\n",
    "\n",
    "$$ $$\n",
    "\n",
    "$$Gupo\\ S2:$$\n",
    "\n",
    "$$Batallan,\\ David\\ Leonardo$$\n",
    "\n",
    "$$Urquiza,\\ Elías\\ Santos$$\n",
    "\n",
    "$$Galante,\\ Julieta\\ Cloé$$\n",
    "\n",
    "$$Torres,\\ Delfina$$"
   ]
  },
  {
   "cell_type": "markdown",
   "metadata": {},
   "source": [
    "##  $0.\\ Introducción$"
   ]
  },
  {
   "cell_type": "markdown",
   "metadata": {},
   "source": [
    "_En el presente informe se pretende calcular la raíz de la función_\n",
    "\n",
    "$$G(z) = \\frac{\\lambda\\ R\\ z}{(2\\ \\epsilon_{0})\\ (z^2 + R^2)^{\\frac{3}{2}}} -5000$$ \n",
    "\n",
    "_de modo tal que la función_\n",
    "\n",
    "$$E(z) = \\frac{\\lambda\\ R\\ z}{(2\\ \\epsilon_{0})\\ (z^2 + R^2)^{\\frac{3}{2}}} = 5000 \\frac{N}{C}.$$ \n",
    "\n",
    "_Constantes utilizadas:_\n",
    "\n",
    "$$\\lambda = 0,1 \\mu C$$\n",
    "\n",
    "$$R = 20 cm$$\n",
    "\n",
    "$$\\epsilon_{0} = 8,85x10^{-12}$$\n",
    "\n",
    "_Esto lo haremos utilizando métodos numéricos, implementados en Python 3.6, cuyo código será presentado junto con el informe._\n",
    "\n",
    "_A continuación, inicializamos los valores con los que trabajaremos, al igual que presentaremos un gráfico de la función, y después procederemos a explicar los métodos utiizados._\n",
    "\n",
    " "
   ]
  },
  {
   "cell_type": "markdown",
   "metadata": {},
   "source": [
    "_Para implementar estos métodos, escribimos un código fuente en Python 3.6 que presentaremos a continuación, intercalado con el informe._ "
   ]
  },
  {
   "cell_type": "code",
   "execution_count": 1,
   "metadata": {},
   "outputs": [],
   "source": [
    "import sympy as sm\n",
    "import numpy as np\n",
    "import matplotlib.pyplot as plt\n",
    "\n",
    "#Se declara z como variable simbólica\n",
    "z = sm.symbols('z')\n",
    "\n",
    "#Se declara la función simbólica\n",
    "cadena = '1130 * z/((z ** 2 +0.2 ** 2 )^ (3/2)) -5000'\n",
    "funcion=sm.sympify(cadena)\n",
    "#Se declara la función derivada simbólica\n",
    "\n",
    "derivada = sm.diff(funcion,z)\n",
    "\n",
    "\n",
    "#Se declara la función numérica\n",
    "G = sm.lambdify(z, funcion)\n",
    "#Se declara la función derivada\n",
    "\n",
    "Gp= sm.lambdify(z, derivada)"
   ]
  },
  {
   "cell_type": "code",
   "execution_count": 2,
   "metadata": {},
   "outputs": [
    {
     "data": {
      "image/png": "[encoded data removed]",
      "text/plain": [
       "<Figure size 432x288 with 1 Axes>"
      ]
     },
     "metadata": {},
     "output_type": "display_data"
    }
   ],
   "source": [
    "#Se grafica la función a partir de la función numérica\n",
    "x = np.linspace(-0.5,0.5,101)\n",
    "plt.plot(x,G(x))\n",
    "plt.grid()\n",
    "plt.show()"
   ]
  },
  {
   "cell_type": "markdown",
   "metadata": {},
   "source": [
    "## $1.\\ Resolución\\ a\\ través\\ de\\ dos\\ métodos\\ numéricos$\n",
    "\n",
    "_Fueron elegidos el método de la Bisección como método de arranque y el de Newton-Raphson como método de refinamiento, ya que, por un lado, son aplicables a la función elegida porque ésta cumple con las condiciones que cada método requiere; tiene multiplicidad impar y es continua en el intervalo elegido, lo cual satisface al primero, y también lo es su derivada, lo cual satisface parte del segundo._}\n",
    "\n",
    "_Sea [a;b] un intervalo en el que se encuentra una única raiz, podemos definir ambos métodos brevemente._\n",
    "\n",
    "**_Método de la Bisección:_**\n",
    "\n",
    "$$p_{n}=\\frac{a_{n}\\ b_{n}}{2}$$\n",
    "\n",
    "$$\n",
    "\\mbox{donde, para las siguientes iteraciones, se cumple}\\begin{cases}\n",
    "\\mbox{si $f(a_{n})f(p_{n}) < 0$},\n",
    "& \\mbox{$a_{n+1} = a_{n}$ y $b_{n+1}=p_{n}$}\n",
    "\\\\\n",
    "\\mbox{si $f(a_{n})f(p_{n}) > 0$},\n",
    "& \\mbox{$a_{n+1} = p_{n}$ y $b_{n+1}=b_{n}$}\n",
    "\\end{cases}\n",
    "$$\n",
    "\n",
    "\n",
    "_Con $a_{0} = a$ y $b_{0} = b$._\n",
    "\n",
    "**_Método de Newton-Raphson:_**\n",
    "\n",
    "$$p_{n+1} = p_{n} - \\frac{f(p_{n})}{f'(p_{n})}$$\n",
    "\n",
    "_Tomando $p_{0} = \\frac{a + b}{2}$_.\n",
    "\n",
    "_No cumple que la derivada sea distinta de cero en todo punto, pero este factor puede resultar de interés para probar qué sucede cuando se incluyen estos puntos. Por otro lado, resulta de interés analizar qué sucede al aplicarlos a la misma función, ya que presentan distintas características: el primero tiene orden de convergencia lineal, es lento pero asegura encontrar un valor de raíz y puede aplicarse en cualquier intervalo que cumpla que los valores iniciales elegidos sean de signos opuestos. El segundo tiene orden de convergencia cuadrático, es más veloz aunque no asegura encontrar una raíz y debe aplicarse en un intervalo lo suficientemente pequeño para que funcione, en dependencia de las características de la función._\n",
    "\n",
    "**_Criterio de Corte:_**\n",
    "Definimos un \"Error Relativo\" entre las raices obtenidas:\n",
    "\n",
    "$$E_{rel} = \\frac{\\tilde{X}-X}{X}$$\n",
    "\n",
    "Y un Error de Redondeo:\n",
    "\n",
    "$$E_{red} = 0,5x10^{1-t}$$\n",
    "con $t =$ cantidad de dígitos significativos\n",
    "\n",
    "Y por ello, consideramos el siguiente criterio de corte para ambos métodos:\n",
    "\n",
    "$$E_{rel} \\geqslant E_{red}$$\n",
    "\n",
    "con t = 9 dígitos, puesto que no tendría sentido físico medir con más dígitos decimales ya que a partir de este punto se trabaja con nanometros y consideramos despreciable cualquier magnitud menor.\n"
   ]
  },
  {
   "cell_type": "markdown",
   "metadata": {},
   "source": [
    "### $1.A.\\ Método\\ de\\ Arranque:\\ Bisección$\n",
    " \n",
    "_Tomando los extremos (-0.3 , 0.3), que fue el intervalo seleccionado para esta función, tarda 31 iteraciones, lo cual puede parecer un numero relativamente excesivo._\n",
    "\n",
    "_Si experimentamos con distintos intervalos, por ejemplo, con los valores de arranque (0.01, 0.025), que son relativamente cercanos a la raíz, el programa tarda 26 iteraciones en encontrar la raíz. Tomando como extremo algun valor entre -100 y 0, y el otro 0.2, hace de 38 a 29 iteraciones. Esto no es una diferencia muy grande teniendo en cuenta las distintas distancias a la raíz; no se encuentra un intervalo que sea mucho más veloz que otro._ \n",
    "\n",
    "_Al tomar intervalos como (0, 3), (0,5) o (0,10), la aproximación es a otros valores, y no al de la raíz buscada._"
   ]
  },
  {
   "cell_type": "code",
   "execution_count": 3,
   "metadata": {},
   "outputs": [
    {
     "name": "stdout",
     "output_type": "stream",
     "text": [
      "Iteración 1 = 0.000000000\n",
      "Iteración 2 = 0.150000000\n",
      "Iteración 3 = 0.075000000\n",
      "Iteración 4 = 0.037500000\n",
      "Iteración 5 = 0.018750000\n",
      "Iteración 6 = 0.028125000\n",
      "Iteración 7 = 0.032812500\n",
      "Iteración 8 = 0.035156250\n",
      "Iteración 9 = 0.036328125\n",
      "Iteración 10 = 0.036914062\n",
      "Iteración 11 = 0.037207031\n",
      "Iteración 12 = 0.037353516\n",
      "Iteración 13 = 0.037280273\n",
      "Iteración 14 = 0.037243652\n",
      "Iteración 15 = 0.037261963\n",
      "Iteración 16 = 0.037252808\n",
      "Iteración 17 = 0.037257385\n",
      "Iteración 18 = 0.037255096\n",
      "Iteración 19 = 0.037256241\n",
      "Iteración 20 = 0.037256813\n",
      "Iteración 21 = 0.037256527\n",
      "Iteración 22 = 0.037256670\n",
      "Iteración 23 = 0.037256742\n",
      "Iteración 24 = 0.037256706\n",
      "Iteración 25 = 0.037256688\n",
      "Iteración 26 = 0.037256679\n",
      "Iteración 27 = 0.037256683\n",
      "Iteración 28 = 0.037256681\n",
      "Iteración 29 = 0.037256682\n",
      "Iteración 30 = 0.037256682\n",
      "Iteración 31 = 0.037256681\n"
     ]
    }
   ],
   "source": [
    "#definimos \"Error Relativo\" como el cociente entre la diferencia de los ultimos valores obtenidos y el último valor \n",
    "def RelativeError(xi,xii):\n",
    "    return abs((xii-xi)/xii)\n",
    "\n",
    "#cantidad de dígitos significativos\n",
    "t = 9\n",
    "\n",
    "#se define el intervalo [a;b]\n",
    "a = -0.3\n",
    "b = 0.3\n",
    "\n",
    "#se inicializan las variables para implementar el criterio de corte\n",
    "xi= -100\n",
    "xii=100\n",
    "i=1\n",
    "\n",
    "#Se inicia bucle-while hasta que se cumpla el criterio de corte o se encuentre el 0\n",
    "while RelativeError(xi,xii) >= 0.5*10**(1-t):\n",
    "    xi = (a + b) / 2\n",
    "    fa=G(a)\n",
    "    fb=G(b)\n",
    "    fxi=G(xi)\n",
    "    if fxi == 0:\n",
    "        raiz = c\n",
    "        break\n",
    "    elif fa * fxi <0:\n",
    "        b=xi\n",
    "    else :\n",
    "        a = xi\n",
    "    raiz = xi\n",
    "    xii = (a+b)/2\n",
    "    print('Iteración',i, '=', \"%.9f\" % raiz)\n",
    "    i=i+1"
   ]
  },
  {
   "cell_type": "markdown",
   "metadata": {},
   "source": [
    "### $1.B.\\ Método\\ de\\ refinamiento:\\ Newton-Raphson$\n",
    "\n",
    "_En los intervalos (0, 0.1), (0, 0.2), (0, 0.3), se necesitan 4 iteraciones para alcanzar un valor cercano a la raíz con la cota deseada. Para los valores (-0.1, 0.4), (-0.1, 0.3), (-0.1, 0.2),(-0.1, 0.1) tarda 5 iteraciones pero halla el valor de otra raíz, por más de que estos intervalos no contengan dicha raíz._\n",
    "\n",
    "_Para (-0.2, 0), el programa se traba porque aparece una division por cero y con (-0.2, 0.1) por overflow. Es probable que así sea por el mínimo que presenta la función, es decir, derivada cero o un valor muy pequeño._"
   ]
  },
  {
   "cell_type": "code",
   "execution_count": 9,
   "metadata": {},
   "outputs": [
    {
     "name": "stdout",
     "output_type": "stream",
     "text": [
      "Iteración 1 = 0.035398230\n",
      "Iteración 2 = 0.037242572\n",
      "Iteración 3 = 0.037256681\n",
      "Iteración 4 = 0.037256682\n"
     ]
    }
   ],
   "source": [
    "#se inicializan las variables para implementar el criterio de corte\n",
    "x0= 0\n",
    "x1=0.3 #Número arbitrario con tal de que no se cumpla el criterio de corte antes de entrar en el bucle.\n",
    "\n",
    "i=1\n",
    "while RelativeError(x0,x1) >= 0.5*10**(1-t):\n",
    "    x1 = x0 - G(x0)/Gp(x0)\n",
    "    x0=x1\n",
    "    x1 = x0 - G(x0)/Gp(x0)\n",
    "    raiz=x0\n",
    "   \n",
    "    print('Iteración',i, '=', \"%.9f\" % raiz)\n",
    "    i=i+1"
   ]
  },
  {
   "cell_type": "markdown",
   "metadata": {},
   "source": [
    "### $1.C\\ Análisis\\ de\\ resultados$\n",
    "_Podríamos concluir a través de los resultados obtenidos que el método de la bisección es más seguro ya que dado cualquier intervalo que incluya a la raíz, se va a encontrar un valor que se aproxime a la raíz, a pesar de ser lento. El de Newton-Raphson para algunos intervalos probados resultó de gran utilidad ya que logró alcanzarse un valor en únicamente 4 iteraciones. Sin embargo, aún tomando intervalos que no incluyeran otras raíces, se aproximaron otras en lugar de la deseada. También se trabó el programa por presentar un mínimo la función. A pesar de ello, en este caso, podría elegirse el método de Newton-Raphson por sobre el de la bisección ya que resulta notablemente más veloz y se pudo encontrar una zona en la que funcionó._\n",
    "\n",
    "$\\mbox{[Tal vez podría haber más?]}$"
   ]
  },
  {
   "cell_type": "markdown",
   "metadata": {},
   "source": [
    "## $2.\\ Planteo\\ de\\ problema\\ con\\ resolución\\ abierta$\n",
    "\n",
    "### $2.A\\ Solución\\ Propuesta$\n",
    "\n",
    "_Si, en vez de conocer la función, solamente se tiene una grilla de 30 puntos (x, y=f(x)) y se quiere resolver el problema de busqueda de raices, proponemos aproximar la forma de la función en un intervalo por medio de una regresión lineal de mínimos cuadrados. A esta función aproximada, se le buscarán las raices luego por medio de alguno de los dos metodos ejemplificados en la sección anterior._"
   ]
  },
  {
   "cell_type": "code",
   "execution_count": 5,
   "metadata": {},
   "outputs": [
    {
     "name": "stdout",
     "output_type": "stream",
     "text": [
      "Tabla\n",
      "         z                 G(z)\n",
      "     -0.28         -12232.43717\n",
      "     -0.26         -12766.20627\n",
      "     -0.24         -13324.02516\n",
      "     -0.22         -13894.36522\n",
      "      -0.2         -14458.50999\n",
      "     -0.18         -14987.88328\n",
      "     -0.16         -15441.02413\n",
      "     -0.14         -15760.75311\n",
      "     -0.12          -15872.6921\n",
      "      -0.1          -15687.1361\n",
      "     -0.08         -15107.02726\n",
      "     -0.06         -14044.64363\n",
      "     -0.04         -12447.31905\n",
      "     -0.02         -10327.19309\n",
      "       0.0          -7783.14858\n",
      "      0.02              -5000.0\n",
      "      0.04          -2216.85142\n",
      "      0.06            327.19309\n",
      "      0.08           2447.31905\n",
      "       0.1           4044.64363\n",
      "      0.12           5107.02726\n",
      "      0.14            5687.1361\n",
      "      0.16            5872.6921\n",
      "      0.18           5760.75311\n",
      "       0.2           5441.02413\n",
      "      0.22           4987.88328\n",
      "      0.24           4458.50999\n",
      "      0.26           3894.36522\n",
      "      0.28           3324.02516\n",
      "       0.3           2766.20627\n"
     ]
    }
   ],
   "source": [
    "#En este caso generamos los puntos a partir de la función propuesta en la sección anterior, para poder comparar lo obtenido.\n",
    "#Se genera una tabla con los valores de la función:\n",
    "listaz=[]\n",
    "listagz=[]\n",
    "zi=-0.3    \n",
    "for i in range (30):\n",
    "    gz=(1130 * zi)/(zi ** 2 + 0.2 ** 2 )** (3/2)-5000\n",
    "    gz=round(gz,5)\n",
    "    lista1=[zi,gz]\n",
    "    zi+=0.02\n",
    "    zi=round(zi,2)\n",
    "    listaz.append(zi)\n",
    "    listagz.append(gz)\n",
    "print('Tabla')\n",
    "print('z'.rjust(10), 'G(z)'.rjust(20))         \n",
    "for i in range(30):\n",
    "    print(str(listaz[i]).rjust(10),  str(listagz[i]).rjust(20))"
   ]
  },
  {
   "cell_type": "code",
   "execution_count": 18,
   "metadata": {},
   "outputs": [
    {
     "name": "stdout",
     "output_type": "stream",
     "text": [
      "m: 45508.757\n",
      "b: -5696.169\n"
     ]
    }
   ],
   "source": [
    "#Aplicación de cuadrados mínimos#\n",
    "zt=gt=zg=z2=0\n",
    "for i in range(30):\n",
    "    zt+=listaz[i]\n",
    "    gt+=listagz[i]\n",
    "    zg+=listaz[i]*listagz[i]\n",
    "    z2+=listaz[i]**2\n",
    "    \n",
    "m=(zg-(zt*gt)/30)/(z2-zt**2/30)\n",
    "zp=zt/30\n",
    "gp=gt/30\n",
    "b=gp-m*zp\n",
    "m=round(m,3)\n",
    "b=round(b,3)\n",
    "print('m:',m)\n",
    "print('b:',b)"
   ]
  },
  {
   "cell_type": "code",
   "execution_count": 7,
   "metadata": {},
   "outputs": [
    {
     "data": {
      "image/png": "[encoded data removed]",
      "text/plain": [
       "<Figure size 432x288 with 1 Axes>"
      ]
     },
     "metadata": {},
     "output_type": "display_data"
    }
   ],
   "source": [
    "#Se grafica la función a partir de la función numérica\n",
    "x = sm.symbols('x')\n",
    "\n",
    "string = '12979.013 * x -5216.713'\n",
    "\n",
    "#Se declara la función simbólica\n",
    "f=sm.sympify(string)\n",
    "fp = sm.diff(f,x)\n",
    "\n",
    "#Se declara la función numérica\n",
    "F = sm.lambdify(x, f)\n",
    "\n",
    "#Se declara la función derivada\n",
    "Fp= sm.lambdify(x, fp)\n",
    "\n",
    "x = np.linspace(-0.2,1,101)\n",
    "plt.plot(x,F(x))\n",
    "plt.grid()\n",
    "plt.show()"
   ]
  },
  {
   "cell_type": "code",
   "execution_count": 14,
   "metadata": {},
   "outputs": [
    {
     "name": "stdout",
     "output_type": "stream",
     "text": [
      "Iteración 1 = 0.401934492\n"
     ]
    }
   ],
   "source": [
    "#se inicializan las variables para implementar el criterio de corte\n",
    "x0= 0\n",
    "x1=0.3 #Número arbitrario con tal de que no se cumpla el criterio de corte antes de entrar en el bucle.\n",
    "\n",
    "i=1\n",
    "while RelativeError(x0,x1) >= 0.5*10**(1-t):\n",
    "    x1 = x0 - F(x0)/Fp(x0)\n",
    "    x0=x1\n",
    "    x1 = x0 - F(x0)/Fp(x0)\n",
    "    raiz=x0\n",
    "   \n",
    "    print('Iteración',i, '=', \"%.9f\" % raiz)\n",
    "    i=i+1"
   ]
  },
  {
   "cell_type": "code",
   "execution_count": 17,
   "metadata": {},
   "outputs": [
    {
     "name": "stdout",
     "output_type": "stream",
     "text": [
      "0.12516643774735486\n"
     ]
    }
   ],
   "source": [
    "raiz = (-b)/m\n",
    "print (raiz)"
   ]
  },
  {
   "cell_type": "markdown",
   "metadata": {},
   "source": [
    "## $2.B\\ Conclusiones$\n",
    "\n",
    "_Por la función lineal que obtuvimos, podemos notar que unicamente se toma en consideración la raiz que se encuentra en el punto X = 0,4, en vez de la raiz en X $\\tilde{=}$ 0,03. Esto consideramos que se debe al intervalo de puntos que tomamos de la función original para generar la tabla y, por ello, si deseamos encontrar la raiz que se encuentra en el intervalo (-0,3; 0,3) deberíamos haber tomado puntos en un intervalo más chico._\n",
    "_A pesar de esto, consideramos que este método funciona de manera apropiada con los datos que recibe, puesto que tuvo exito encontrando una raiz de la función original._"
   ]
  },
  {
   "cell_type": "code",
   "execution_count": null,
   "metadata": {},
   "outputs": [],
   "source": []
  }
 ],
 "metadata": {
  "kernelspec": {
   "display_name": "Python 3",
   "language": "python",
   "name": "python3"
  },
  "language_info": {
   "codemirror_mode": {
    "name": "ipython",
    "version": 3
   },
   "file_extension": ".py",
   "mimetype": "text/x-python",
   "name": "python",
   "nbconvert_exporter": "python",
   "pygments_lexer": "ipython3",
   "version": "3.6.5"
  }
 },
 "nbformat": 4,
 "nbformat_minor": 2
}
