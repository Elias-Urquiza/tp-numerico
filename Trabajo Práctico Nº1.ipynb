{
 "cells": [
  {
   "cell_type": "markdown",
   "metadata": {},
   "source": [
    "# $$Trabajo\\ Práctico\\ Nº1$$\n",
    "\n",
    "$$ANÁLISIS\\ NUMÉRICO$$\n",
    "\n",
    "$$2do\\  Cuatrimestre\\ 2018$$\n",
    "\n",
    "$$Gupo\\ S2:$$\n",
    "\n",
    "$$Alumnos$$\n",
    "\n",
    "$$Batallan,\\ David\\ Leonardo$$\n",
    "\n",
    "$$Urquiza,\\ Elías\\ Santos$$\n",
    "\n",
    "$$Galante,\\ Julieta\\ Cloé$$\n",
    "\n",
    "$$Torres,\\ Delfina$$\n",
    "\n",
    "# ESTO SE VA BORRANDO MIENTRAS SE COMPLETA#\n",
    "$Deben\\ elegir\\ un\\ método\\ de\\ arranque,\\ comentando\\ brevemente\\ el\\ motivo\\ de\\ su\\ elección\\ e\\ indicar\\ el\\ resultado\\ obtenido.$\n",
    "\n",
    "$1.B. Método\\ de\\ refinamiento$\n",
    "\n",
    "$Deben\\ elegir\\ un\\ método\\ de\\ refinamiento,\\ comentando\\ brevemente\\ el\\ motivo\\ de\\ su\\ elección,\\ justificar\\ la\\ selección\\ del\\ valor\\ inicial,\\ e\\ indicar\\ el\\ resultado\\ obtenido.$\n",
    "\n",
    "$1.C\\ Análisis\\ de\\ resultados$\n",
    "\n",
    "$Concluir\\ sobre\\ los\\ resultados\\ obtenidos$\n",
    "\n",
    "$2. Planteo\\ de\\ problema\\ con\\ resolución\\ abierta$\n",
    "\n",
    "$¿Qué\\ pasa\\ si\\ en\\ vez\\ de\\ conocer\\ la\\ función,\\ solamente\\ tengo\\ una\\ grilla\\ de\\ puntos\\ (x,y=f(x))?\\ ¿Cómo\\ resolvería\\ el\\ problema\\ de\\ búsqueda\\ de\\ raíces?$\n",
    "\n",
    "$Se\\ propone\\ generar\\ una\\ tabla,\\ a\\ partir\\ de\\ la\\ función,\\ de\\ 30\\ puntos\\ dentro\\ del\\ intervalo\\ elegido\\ y\\ pensar\\ de\\ forma\\ abierta\\ una\\ solución\\ al\\ problema.$ \n",
    "$Lo\\ que\\ se\\ espera\\ en\\ esta\\ etapa\\ es\\ que\\ cada\\ grupo\\ pueda\\ proponer\\ ideas\\ sobre\\ como\\ resolvería\\ este\\ problema\\ a\\ partir\\ de\\ sus\\ conocimientos\\ previos,$ \n",
    "$utilizando\\ la\\ imaginación\\ y\\ lo\\ visto\\ hasta\\ ahora.\\ No\\ va\\ a\\ ser\\ evaluado\\ en\\ términos\\ de\\ \"correcto/incorrrecto\"\\ sino\\ en\\ la\\ capacidad\\ de\\ presentar\\ una\\ propuesta\\ con\\ ideas\\ claras\\ y\\ originales.$"
   ]
  },
  {
   "cell_type": "markdown",
   "metadata": {},
   "source": [
    "##  $0.\\ Introducción$"
   ]
  },
  {
   "cell_type": "markdown",
   "metadata": {},
   "source": [
    "_En el presente informe se pretende calcular la raíz de la función_\n",
    "\n",
    "$$G(z) = \\frac{\\lambda\\ R\\ z}{(2\\ \\epsilon_{0})\\ (z^2 + R^2)^{\\frac{3}{2}}} -5000$$ \n",
    "\n",
    "_de modo tal que la función_\n",
    "\n",
    "$$E(z) = \\frac{\\lambda\\ R\\ z}{(2\\ \\epsilon_{0})\\ (z^2 + R^2)^{\\frac{3}{2}}} = 5000 \\frac{N}{C}.$$ \n",
    "\n",
    "_Constantes utilizadas:_\n",
    "\n",
    "$$\\lambda = 0,1 \\mu C$$\n",
    "\n",
    "$$R = 20 cm$$\n",
    "\n",
    "$$\\epsilon_{0} = 8,85x10^{-12}$$\n",
    "\n",
    "_Esto lo haremos utilizando métodos numéricos, implementados en Python 3.6, cuyo código será presentado junto con el informe._\n",
    "\n",
    "_A continuación, inicializamos los valores con los que trabajaremos, al igual que presentaremos un gráfico de la función, y después procederemos a explicar los métodos utiizados._\n",
    "\n",
    " "
   ]
  },
  {
   "cell_type": "markdown",
   "metadata": {},
   "source": [
    "_Para implementar estos métodos, escribimos un código fuente en Python 3.6 que presentaremos a continuación, intercalado con el informe._ "
   ]
  },
  {
   "cell_type": "code",
   "execution_count": 5,
   "metadata": {},
   "outputs": [],
   "source": [
    "import sympy as sm\n",
    "import numpy as np\n",
    "import matplotlib.pyplot as plt\n",
    "\n",
    "#Se declara z como variable simbólica\n",
    "z = sm.symbols('z')\n",
    "\n",
    "#Se declara la función simbólica\n",
    "cadena = '1130 * z/((z ** 2 +0.2 ** 2 )^ (3/2)) -5000'\n",
    "funcion=sm.sympify(cadena)\n",
    "#Se declara la función derivada simbólica\n",
    "\n",
    "derivada = sm.diff(funcion,z)\n",
    "\n",
    "\n",
    "#Se declara la función numérica\n",
    "G = sm.lambdify(z, funcion)\n",
    "#Se declara la función derivada\n",
    "\n",
    "Gp= sm.lambdify(z, derivada)"
   ]
  },
  {
   "cell_type": "code",
   "execution_count": 6,
   "metadata": {},
   "outputs": [
    {
     "data": {
      "image/png": "[encoded data removed]",
      "text/plain": [
       "<Figure size 432x288 with 1 Axes>"
      ]
     },
     "metadata": {},
     "output_type": "display_data"
    }
   ],
   "source": [
    "#Se grafica la función a partir de la función numérica\n",
    "x = np.linspace(-0.5,0.5,101)\n",
    "plt.plot(x,G(x))\n",
    "plt.grid()\n",
    "plt.show()"
   ]
  },
  {
   "cell_type": "markdown",
   "metadata": {},
   "source": [
    "## $1.\\ Resolución\\ a\\ través\\ de\\ dos\\ métodos\\ numéricos$\n",
    "\n",
    "_Fueron elegidos el método de la Bisección como método de arranque y el de Newton-Raphson como método de refinamiento, ya que, por un lado, son aplicables a la función elegida porque ésta cumple con las condiciones que cada método requiere; tiene multiplicidad impar y es continua en el intervalo elegido, lo cual satisface al primero, y también lo es su derivada, lo cual satisface parte del segundo._}\n",
    "\n",
    "_Sea [a;b] un intervalo en el que se encuentra una única raiz, podemos definir ambos métodos brevemente._\n",
    "\n",
    "**_Método de la Bisección:_**\n",
    "\n",
    "$$p_{n}=\\frac{a_{n}\\ b_{n}}{2}$$\n",
    "\n",
    "$$\n",
    "\\mbox{donde, para las siguientes iteraciones, se cumple}\\begin{cases}\n",
    "\\mbox{si $f(a_{n})f(p_{n}) < 0$},\n",
    "& \\mbox{$a_{n+1} = a_{n}$ y $b_{n+1}=p_{n}$}\n",
    "\\\\\n",
    "\\mbox{si $f(a_{n})f(p_{n}) > 0$},\n",
    "& \\mbox{$a_{n+1} = p_{n}$ y $b_{n+1}=b_{n}$}\n",
    "\\end{cases}\n",
    "$$\n",
    "\n",
    "\n",
    "_Con $a_{0} = a$ y $b_{0} = b$._\n",
    "\n",
    "[CRITERIO DE CORTE?]\n",
    "\n",
    "**_Método de Newton-Raphson:_**\n",
    "\n",
    "$$p_{n+1} = p_{n} - \\frac{f(p_{n})}{f'(p_{n})}$$\n",
    "\n",
    "[Explicar el p_0 utilizado + criterio de corte]\n",
    "\n",
    "_No cumple que la derivada sea distinta de cero en todo punto, pero este factor puede resultar de interés para probar qué sucede cuando se incluyen estos puntos. Por otro lado, resulta de interés analizar qué sucede al aplicarlos a la misma función, ya que presentan distintas características: el primero tiene orden de convergencia lineal, es lento pero asegura encontrar un valor de raíz y puede aplicarse en cualquier intervalo que cumpla que los valores iniciales elegidos sean de signos opuestos. El segundo tiene orden de convergencia cuadrático, es más veloz aunque no asegura encontrar una raíz y debe aplicarse en un intervalo lo suficientemente pequeño para que funcione, en dependencia de las características de la función._"
   ]
  },
  {
   "cell_type": "markdown",
   "metadata": {},
   "source": [
    "### $1.A.\\ Método\\ de\\ Arranque:\\ Bisección$\n",
    " \n",
    "_Tomándose  los valores de arranque (0.01, 0.025), que son relativamente cercanos a la raíz, el programa tarda 25 iteraciones en encontrar la raíz. Es un número considerablemente alto en relación a la cantidad que le llevó al método anterior. Tomando los extremos (-0.3 , 0.3), que fue el intervalo seleccionado para esta función tarda 30 iteraciones. Tomando un extremo de   -100 a 0 y el otro 0.2, hace de 37 a 28 iteraciones. Esto no es una diferencia muy grande teniendo en cuenta las distintas a la raíz; no se encuentra un intervalo que sea mucho más veloz que otro. Al tomar intervalos como (0, 3), (0,5) o (0,10), la aproximación es a otros valores, y no al de la raíz buscada._"
   ]
  },
  {
   "cell_type": "code",
   "execution_count": 10,
   "metadata": {},
   "outputs": [
    {
     "name": "stdout",
     "output_type": "stream",
     "text": [
      "Iteración 1 = 0.0\n",
      "Iteración 2 = 0.15\n",
      "Iteración 3 = 0.075\n",
      "Iteración 4 = 0.0375\n",
      "Iteración 5 = 0.01875\n",
      "Iteración 6 = 0.028124999999999997\n",
      "Iteración 7 = 0.032812499999999994\n",
      "Iteración 8 = 0.03515625\n",
      "Iteración 9 = 0.036328125\n",
      "Iteración 10 = 0.0369140625\n"
     ]
    }
   ],
   "source": [
    "#definimos \"Error Relativo\" como el cociente entre la diferencia de los ultimos valores obtenidos y el último valor \n",
    "def RelativeError(xi,xii):\n",
    "    return abs((xii-xi)/xii)\n",
    "\n",
    "#se define el intervalo [a;b]\n",
    "a = -0.3\n",
    "b = 0.3\n",
    "\n",
    "#se inicializan las variables para implementar el criterio de corte\n",
    "xi= -100\n",
    "xii=100\n",
    "i=1\n",
    "\n",
    "#Se inicia bucle-while hasta que se cumpla el criterio de corte o se encuentre el 0\n",
    "while RelativeError(xi,xii) > 0.01:\n",
    "    xi = (a + b) / 2\n",
    "    fa=G(a)\n",
    "    fb=G(b)\n",
    "    fxi=G(xi)\n",
    "    if fxi == 0:\n",
    "        raiz = c\n",
    "        break\n",
    "    elif fa * fxi <0:\n",
    "        b=xi\n",
    "    else :\n",
    "        a = xi\n",
    "    raiz = xi\n",
    "    xii = (a+b)/2\n",
    "    print('Iteración',i, '=',raiz)\n",
    "    i=i+1"
   ]
  },
  {
   "cell_type": "markdown",
   "metadata": {},
   "source": [
    "Resultados observados"
   ]
  },
  {
   "cell_type": "markdown",
   "metadata": {},
   "source": [
    "### $1.B.\\ Método\\ de\\ refinamiento:\\ Newton-Raphson$\n",
    "\n",
    "_Los intervalos (0, 0.1), (0, 0.2), (0, 0.3), se necesitan 4 iteraciones para alcanzar un valor cercano a la raíz con la cota deseada. Para los valores (0.1, 0.4), (-0.1, –0.3), (-0.1, 0.2),(-0.1, 0.1) tarda 5 iteraciones pero halla el valor de otra raíz, por más de que estos intervalos no contengan dicha raíz._\n",
    "\n",
    "_**Para (-0.2-0),** [???] el programa se traba porque aparece una division por cero y con (-0.2, 0.1) por overflow. Es probable que así sea por el mínimo que presenta la función, es decir, derivada cero o un valor muy pequeño._"
   ]
  },
  {
   "cell_type": "code",
   "execution_count": 9,
   "metadata": {},
   "outputs": [
    {
     "name": "stdout",
     "output_type": "stream",
     "text": [
      "Iteración 1 = 0.035398230088495575\n",
      "Iteración 2 = 0.037242571594270836\n"
     ]
    }
   ],
   "source": [
    "#se define el intervalo [a;b]\n",
    "a = -0.3\n",
    "b = 0.3\n",
    "\n",
    "#se inicializan las variables para implementar el criterio de corte\n",
    "x0= 0.0\n",
    "x1=20\n",
    "i=1\n",
    "\n",
    "while RelativeError(x0,x1) > 0.01:\n",
    "    x1 = x0 - G(x0)/Gp(x0)\n",
    "    x0=x1\n",
    "    x1 = x0 - G(x0)/Gp(x0)\n",
    "    raiz=x0\n",
    "   \n",
    "    print('Iteración',i, '=',raiz)\n",
    "    i=i+1"
   ]
  },
  {
   "cell_type": "markdown",
   "metadata": {},
   "source": [
    "### $1.C\\ Análisis\\ de\\ resultados$\n",
    "_Podríamos concluir a través de los resultados obtenidos que el método de la bisección es más seguro ya que dado cualquier intervalo que incluya a la raíz, se va a encontrar un valor que se aproxime a la raíz, a pesar de ser lento. El de Newton-Raphson para algunos intervalos probados resultó de gran utilidad ya que logró alcanzarse un valor en únicamente 4 iteraciones. Sin embargo, aún tomando intervalos que no incluyeran otras raíces, se aproximaron otras en lugar de la deseada. También se trabó el programa por presentar un mínimo la función. A pesar de ello, en este caso, podría elegirse el método de Newton-raphson por sobre el de la bisección ya que resulta notablemente más veloz y se pudo encontrar una zona en la que funcionó._\n",
    "\n",
    "$\\mbox{[Tal vez podría haber más?]}$"
   ]
  },
  {
   "cell_type": "markdown",
   "metadata": {},
   "source": [
    "## $2.\\ Planteo\\ de\\ problema\\ con\\ resolución\\ abierta$\n",
    "\n",
    "$$\\mbox{¯\\_(ツ)_/¯}$$\n"
   ]
  },
  {
   "cell_type": "markdown",
   "metadata": {},
   "source": [
    "**Lo de juli asi sin más:\n",
    "    Criterio de elección**\n",
    "\n",
    "Fueron elegidos el método de la bisección como método de arranque y el de Newton-Raphson como método de refinamiento, ya que, por un lado, son aplicables a la función elegida porque ésta cumple con las condiciones que cada método requiere; es continua en el intervalo elegido, lo cual satisface al primero, y también lo es su derivada, lo cual satisface parte del segundo.\n",
    "No cumple que la derivada sea distinta de cero en todo punto, pero este factor puede resultar de interés para probar qué sucede cuando se incluyen estos puntos. Por otro lado, resulta de interés analizar qué sucede al aplicarlos a la misma función, ya que presentan distintas características: el primero tiene orden de convergencia lineal, es lento pero asegura encontrar un valor de raíz y puede aplicarse en cualquier intervalo que cumpla que los valores iniciales elegidos sean de signos opuestos. El segundo tiene orden de convergencia cuadrático, es más veloz aunque no asegura encontrar una raíz y debe aplicarse en un intervalo lo suficientemente pequeño para que funcione, en dependencia de las características de la función. \n",
    "\n",
    "Prueba de intervalos:\n",
    "Método de Newton-Raphson\n",
    "Los intervalos (0,0.1), (0, 0.2), (0, 0.3), se necesitan 4 iteraciones para alcanzar un valor cercano a la raíz con la cota deseada. Para los valores (0.1, 0.4), (-0.1 ,– 0.3), (-0.1, 0.2),             (-0.1, 0.1) tarda 5 iteraciones pero halla el valor de otra raíz, por más de que estos intervalos no contengan dicha raíz.\n",
    " Para (-0.2-0), el programa se traba porque aparece una division por cero y con (-0.2, 0.1) por overflow. Es probable que así sea por el mínimo que presenta la función, es decir, derivada cero o un valor muy pequeño.\n",
    "\tMétodo de bisección\n",
    "Tomándose  los valores de arranque (0.01, 0.025), que son relativamente cercanos a la raíz, el programa tarda 25 iteraciones en encontrar la raíz. Es un número considerablemente alto en relación a la cantidad que le llevó al método anterior. Tomando los extremos (-0.3 , 0.3), que fue el intervalo seleccionado para esta función tarda 30 iteraciones. Tomando un extremo de   -100 a 0 y el otro 0.2, hace de 37 a 28 iteraciones. Esto no es una diferencia muy grande teniendo en cuenta las distintas a la raíz; no se encuentra un intervalo que sea mucho más veloz que otro. Al tomar intervalos como (0, 3), (0,5) o (0,10), la aproximación es a otros valores, y no al de la raíz buscada.\n",
    " Podríamos concluir a través de los resultados obtenidos que el método de la bisección es más seguro ya que dado cualquier intervalo que incluya a la raíz, se va a encontrar un valor que se aproxime a la raíz, a pesar de ser lento. El de Newton-Raphson para algunos intervalos probados resultó de gran utilidad ya que logró alcanzarse un valor en únicamente 4 iteraciones. Sin embargo, aún tomando intervalos que no incluyeran otras raíces, se aproximaron otras en lugar de la deseada. También se trabó el programa por presentar un mínimo la función. A pesar de ello, en este caso, podría elegirse el método de Newton-raphson por sobre el de la bisección ya que resulta notablemente más veloz y se pudo encontrar una zona en la que funcionó.\n"
   ]
  },
  {
   "cell_type": "code",
   "execution_count": null,
   "metadata": {},
   "outputs": [],
   "source": []
  },
  {
   "cell_type": "code",
   "execution_count": null,
   "metadata": {},
   "outputs": [],
   "source": []
  },
  {
   "cell_type": "code",
   "execution_count": null,
   "metadata": {},
   "outputs": [],
   "source": []
  }
 ],
 "metadata": {
  "kernelspec": {
   "display_name": "Python 3",
   "language": "python",
   "name": "python3"
  },
  "language_info": {
   "codemirror_mode": {
    "name": "ipython",
    "version": 3
   },
   "file_extension": ".py",
   "mimetype": "text/x-python",
   "name": "python",
   "nbconvert_exporter": "python",
   "pygments_lexer": "ipython3",
   "version": "3.6.5"
  }
 },
 "nbformat": 4,
 "nbformat_minor": 2
}
